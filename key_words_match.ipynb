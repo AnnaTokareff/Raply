{
 "cells": [
  {
   "cell_type": "code",
   "execution_count": 164,
   "id": "4a3ca65f",
   "metadata": {},
   "outputs": [],
   "source": [
    "import pandas as pd\n",
    "import numpy as np\n",
    "from tqdm import tqdm\n",
    "from nltk.stem import WordNetLemmatizer"
   ]
  },
  {
   "cell_type": "code",
   "execution_count": 186,
   "id": "f2bf65b1",
   "metadata": {},
   "outputs": [],
   "source": [
    "df = pd.read_csv(\"cleaned_verses_only.csv\", sep=\"~\")"
   ]
  },
  {
   "cell_type": "code",
   "execution_count": 187,
   "id": "6d59232b",
   "metadata": {},
   "outputs": [
    {
     "name": "stdout",
     "output_type": "stream",
     "text": [
      "16036\n"
     ]
    },
    {
     "data": {
      "text/html": [
       "<div>\n",
       "<style scoped>\n",
       "    .dataframe tbody tr th:only-of-type {\n",
       "        vertical-align: middle;\n",
       "    }\n",
       "\n",
       "    .dataframe tbody tr th {\n",
       "        vertical-align: top;\n",
       "    }\n",
       "\n",
       "    .dataframe thead th {\n",
       "        text-align: right;\n",
       "    }\n",
       "</style>\n",
       "<table border=\"1\" class=\"dataframe\">\n",
       "  <thead>\n",
       "    <tr style=\"text-align: right;\">\n",
       "      <th></th>\n",
       "      <th>Unnamed: 0</th>\n",
       "      <th>rapper</th>\n",
       "      <th>song</th>\n",
       "      <th>year</th>\n",
       "      <th>lyrics</th>\n",
       "    </tr>\n",
       "  </thead>\n",
       "  <tbody>\n",
       "    <tr>\n",
       "      <th>0</th>\n",
       "      <td>0</td>\n",
       "      <td>Cordae</td>\n",
       "      <td>RNP</td>\n",
       "      <td>2019.0</td>\n",
       "      <td>One of y'all niggas gon' be fuckin' with me|I ...</td>\n",
       "    </tr>\n",
       "    <tr>\n",
       "      <th>1</th>\n",
       "      <td>1</td>\n",
       "      <td>Cordae</td>\n",
       "      <td>Kung Fu</td>\n",
       "      <td>2018.0</td>\n",
       "      <td>Day-Day-Daytrip took it to 10|Let me tell you ...</td>\n",
       "    </tr>\n",
       "    <tr>\n",
       "      <th>2</th>\n",
       "      <td>2</td>\n",
       "      <td>Cordae</td>\n",
       "      <td>Bad Idea</td>\n",
       "      <td>2019.0</td>\n",
       "      <td>Ooh|Ooh|Yeah uh|Bongo ByTheWay|I know myself a...</td>\n",
       "    </tr>\n",
       "    <tr>\n",
       "      <th>3</th>\n",
       "      <td>3</td>\n",
       "      <td>Cordae</td>\n",
       "      <td>Have Mercy</td>\n",
       "      <td>2019.0</td>\n",
       "      <td>Kid|Ugh|Sweet Lord please have mercy|Baby Jesu...</td>\n",
       "    </tr>\n",
       "    <tr>\n",
       "      <th>4</th>\n",
       "      <td>4</td>\n",
       "      <td>Cordae</td>\n",
       "      <td>Old Niggas</td>\n",
       "      <td>2018.0</td>\n",
       "      <td>Damn Mizzy Mauri got beats|Uh old niggas and n...</td>\n",
       "    </tr>\n",
       "  </tbody>\n",
       "</table>\n",
       "</div>"
      ],
      "text/plain": [
       "   Unnamed: 0  rapper        song    year  \\\n",
       "0           0  Cordae         RNP  2019.0   \n",
       "1           1  Cordae     Kung Fu  2018.0   \n",
       "2           2  Cordae    Bad Idea  2019.0   \n",
       "3           3  Cordae  Have Mercy  2019.0   \n",
       "4           4  Cordae  Old Niggas  2018.0   \n",
       "\n",
       "                                              lyrics  \n",
       "0  One of y'all niggas gon' be fuckin' with me|I ...  \n",
       "1  Day-Day-Daytrip took it to 10|Let me tell you ...  \n",
       "2  Ooh|Ooh|Yeah uh|Bongo ByTheWay|I know myself a...  \n",
       "3  Kid|Ugh|Sweet Lord please have mercy|Baby Jesu...  \n",
       "4  Damn Mizzy Mauri got beats|Uh old niggas and n...  "
      ]
     },
     "execution_count": 187,
     "metadata": {},
     "output_type": "execute_result"
    }
   ],
   "source": [
    "print(len(df))\n",
    "df.head()"
   ]
  },
  {
   "cell_type": "code",
   "execution_count": 188,
   "id": "230bfab9",
   "metadata": {},
   "outputs": [],
   "source": [
    "df[\"lyrics\"] = df[\"lyrics\"].apply(lambda text: str(text).replace('|', ' \\n'))"
   ]
  },
  {
   "cell_type": "code",
   "execution_count": 189,
   "id": "fec8b83f",
   "metadata": {},
   "outputs": [],
   "source": [
    "df[\"lyrics_splitted\"] = df[\"lyrics\"].apply(lambda text: str(text).replace('\\n', ' '))"
   ]
  },
  {
   "cell_type": "code",
   "execution_count": 190,
   "id": "2b259824",
   "metadata": {},
   "outputs": [],
   "source": [
    "df[\"lyrics_splitted_lines\"] = df[\"lyrics\"].apply(lambda text: str(text).splitlines())"
   ]
  },
  {
   "cell_type": "code",
   "execution_count": 191,
   "id": "c5f73a72",
   "metadata": {},
   "outputs": [],
   "source": [
    "df['lyrics_tokenized'] = df[\"lyrics_splitted\"].apply(lambda text: ' '.join(nltk.word_tokenize(text)))"
   ]
  },
  {
   "cell_type": "code",
   "execution_count": 192,
   "id": "49f60c8c",
   "metadata": {},
   "outputs": [],
   "source": [
    "lemmatizer = WordNetLemmatizer()\n",
    "df[\"lyrics_lemmatized\"] = df[\"lyrics_tokenized\"].apply(lambda text: [lemmatizer.lemmatize(word) for word in text.split(' ')])"
   ]
  },
  {
   "cell_type": "code",
   "execution_count": 193,
   "id": "0a69aeb3",
   "metadata": {},
   "outputs": [],
   "source": [
    "df[\"formula_num_sent\"] = df[\"lyrics_splitted_lines\"].apply(lambda text: len(text))"
   ]
  },
  {
   "cell_type": "code",
   "execution_count": 194,
   "id": "c840d68d",
   "metadata": {},
   "outputs": [],
   "source": [
    "df_slurs = pd.read_csv(\"slurs.csv\", sep=\";\")"
   ]
  },
  {
   "cell_type": "code",
   "execution_count": 195,
   "id": "f680dbff",
   "metadata": {},
   "outputs": [
    {
     "data": {
      "text/html": [
       "<div>\n",
       "<style scoped>\n",
       "    .dataframe tbody tr th:only-of-type {\n",
       "        vertical-align: middle;\n",
       "    }\n",
       "\n",
       "    .dataframe tbody tr th {\n",
       "        vertical-align: top;\n",
       "    }\n",
       "\n",
       "    .dataframe thead th {\n",
       "        text-align: right;\n",
       "    }\n",
       "</style>\n",
       "<table border=\"1\" class=\"dataframe\">\n",
       "  <thead>\n",
       "    <tr style=\"text-align: right;\">\n",
       "      <th></th>\n",
       "      <th>text</th>\n",
       "      <th>canonical_form_1</th>\n",
       "      <th>canonical_form_2</th>\n",
       "      <th>canonical_form_3</th>\n",
       "      <th>category_1</th>\n",
       "      <th>category_2</th>\n",
       "      <th>category_3</th>\n",
       "      <th>severity_rating</th>\n",
       "      <th>severity_description</th>\n",
       "    </tr>\n",
       "  </thead>\n",
       "  <tbody>\n",
       "    <tr>\n",
       "      <th>0</th>\n",
       "      <td>69</td>\n",
       "      <td>69</td>\n",
       "      <td>NaN</td>\n",
       "      <td>NaN</td>\n",
       "      <td>sexual anatomy / sexual acts</td>\n",
       "      <td>NaN</td>\n",
       "      <td>NaN</td>\n",
       "      <td>1.0</td>\n",
       "      <td>Mild</td>\n",
       "    </tr>\n",
       "    <tr>\n",
       "      <th>1</th>\n",
       "      <td>@55</td>\n",
       "      <td>ass</td>\n",
       "      <td>NaN</td>\n",
       "      <td>NaN</td>\n",
       "      <td>sexual anatomy / sexual acts</td>\n",
       "      <td>NaN</td>\n",
       "      <td>NaN</td>\n",
       "      <td>1.0</td>\n",
       "      <td>Mild</td>\n",
       "    </tr>\n",
       "    <tr>\n",
       "      <th>2</th>\n",
       "      <td>rat baztad</td>\n",
       "      <td>bastard</td>\n",
       "      <td>NaN</td>\n",
       "      <td>NaN</td>\n",
       "      <td>animal references</td>\n",
       "      <td>NaN</td>\n",
       "      <td>NaN</td>\n",
       "      <td>1.8</td>\n",
       "      <td>Strong</td>\n",
       "    </tr>\n",
       "    <tr>\n",
       "      <th>3</th>\n",
       "      <td>ape shit</td>\n",
       "      <td>ape</td>\n",
       "      <td>shit</td>\n",
       "      <td>NaN</td>\n",
       "      <td>bodily fluids / excrement</td>\n",
       "      <td>NaN</td>\n",
       "      <td>NaN</td>\n",
       "      <td>1.6</td>\n",
       "      <td>Strong</td>\n",
       "    </tr>\n",
       "    <tr>\n",
       "      <th>4</th>\n",
       "      <td>ape shite</td>\n",
       "      <td>ape</td>\n",
       "      <td>shit</td>\n",
       "      <td>NaN</td>\n",
       "      <td>bodily fluids / excrement</td>\n",
       "      <td>animal references</td>\n",
       "      <td>NaN</td>\n",
       "      <td>1.6</td>\n",
       "      <td>Strong</td>\n",
       "    </tr>\n",
       "  </tbody>\n",
       "</table>\n",
       "</div>"
      ],
      "text/plain": [
       "         text canonical_form_1 canonical_form_2 canonical_form_3  \\\n",
       "0          69               69              NaN              NaN   \n",
       "1         @55              ass              NaN              NaN   \n",
       "2  rat baztad          bastard              NaN              NaN   \n",
       "3    ape shit              ape             shit              NaN   \n",
       "4   ape shite              ape             shit              NaN   \n",
       "\n",
       "                     category_1         category_2 category_3  \\\n",
       "0  sexual anatomy / sexual acts                NaN        NaN   \n",
       "1  sexual anatomy / sexual acts                NaN        NaN   \n",
       "2             animal references                NaN        NaN   \n",
       "3     bodily fluids / excrement                NaN        NaN   \n",
       "4     bodily fluids / excrement  animal references        NaN   \n",
       "\n",
       "   severity_rating severity_description  \n",
       "0              1.0                 Mild  \n",
       "1              1.0                 Mild  \n",
       "2              1.8               Strong  \n",
       "3              1.6               Strong  \n",
       "4              1.6               Strong  "
      ]
     },
     "execution_count": 195,
     "metadata": {},
     "output_type": "execute_result"
    }
   ],
   "source": [
    "df_slurs.head()"
   ]
  },
  {
   "cell_type": "code",
   "execution_count": 196,
   "id": "600034e9",
   "metadata": {},
   "outputs": [],
   "source": [
    "slurs = dict(zip(df_slurs.text, df_slurs.severity_rating))"
   ]
  },
  {
   "cell_type": "code",
   "execution_count": 197,
   "id": "86a44484",
   "metadata": {},
   "outputs": [],
   "source": [
    "def get_matched_words(df, slurs: dict) -> list:\n",
    "    df[\"slurs\"] = np.nan\n",
    "    df[\"num_slurs\"] = np.nan\n",
    "    df[\"formula_song\"] = np.nan\n",
    "    for ind, (_, row) in tqdm(enumerate(df.iterrows())):\n",
    "        match_words = []\n",
    "        new_set = set(row[\"lyrics_lemmatized\"])\n",
    "        for word in new_set:\n",
    "            if word in slurs:\n",
    "                match_words.append(word)\n",
    "        row[\"slurs\"] = match_words\n",
    "        row[\"num_slurs\"] = len(row[\"slurs\"])\n",
    "        \n",
    "        formula_song = 0.0\n",
    "        for word in match_words:\n",
    "            formula_song += float(slurs[word])\n",
    "        row[\"formula_song\"] = formula_song / len(row[\"lyrics_tokenized\"])\n",
    "        \n",
    "        df.at[ind] = row"
   ]
  },
  {
   "cell_type": "code",
   "execution_count": 198,
   "id": "add1e045",
   "metadata": {
    "scrolled": true
   },
   "outputs": [
    {
     "name": "stderr",
     "output_type": "stream",
     "text": [
      "16036it [00:19, 803.96it/s]\n"
     ]
    }
   ],
   "source": [
    "get_matched_words(df, slurs)"
   ]
  },
  {
   "cell_type": "code",
   "execution_count": 199,
   "id": "1733af0e",
   "metadata": {},
   "outputs": [
    {
     "data": {
      "text/html": [
       "<div>\n",
       "<style scoped>\n",
       "    .dataframe tbody tr th:only-of-type {\n",
       "        vertical-align: middle;\n",
       "    }\n",
       "\n",
       "    .dataframe tbody tr th {\n",
       "        vertical-align: top;\n",
       "    }\n",
       "\n",
       "    .dataframe thead th {\n",
       "        text-align: right;\n",
       "    }\n",
       "</style>\n",
       "<table border=\"1\" class=\"dataframe\">\n",
       "  <thead>\n",
       "    <tr style=\"text-align: right;\">\n",
       "      <th></th>\n",
       "      <th>Unnamed: 0</th>\n",
       "      <th>rapper</th>\n",
       "      <th>song</th>\n",
       "      <th>year</th>\n",
       "      <th>lyrics</th>\n",
       "      <th>lyrics_splitted</th>\n",
       "      <th>lyrics_splitted_lines</th>\n",
       "      <th>lyrics_tokenized</th>\n",
       "      <th>lyrics_lemmatized</th>\n",
       "      <th>formula_num_sent</th>\n",
       "      <th>slurs</th>\n",
       "      <th>num_slurs</th>\n",
       "      <th>formula_song</th>\n",
       "    </tr>\n",
       "  </thead>\n",
       "  <tbody>\n",
       "    <tr>\n",
       "      <th>0</th>\n",
       "      <td>0</td>\n",
       "      <td>Cordae</td>\n",
       "      <td>RNP</td>\n",
       "      <td>2019.0</td>\n",
       "      <td>One of y'all niggas gon' be fuckin' with me \\n...</td>\n",
       "      <td>One of y'all niggas gon' be fuckin' with me  I...</td>\n",
       "      <td>[One of y'all niggas gon' be fuckin' with me ,...</td>\n",
       "      <td>One of y'all niggas gon ' be fuckin ' with me ...</td>\n",
       "      <td>[One, of, y'all, nigga, gon, ', be, fuckin, ',...</td>\n",
       "      <td>57</td>\n",
       "      <td>[motherfuckin, fucking, bitch, nigga, Fuck, fu...</td>\n",
       "      <td>6.0</td>\n",
       "      <td>0.004926</td>\n",
       "    </tr>\n",
       "    <tr>\n",
       "      <th>1</th>\n",
       "      <td>1</td>\n",
       "      <td>Cordae</td>\n",
       "      <td>Kung Fu</td>\n",
       "      <td>2018.0</td>\n",
       "      <td>Day-Day-Daytrip took it to 10 \\nLet me tell yo...</td>\n",
       "      <td>Day-Day-Daytrip took it to 10  Let me tell you...</td>\n",
       "      <td>[Day-Day-Daytrip took it to 10 , Let me tell y...</td>\n",
       "      <td>Day-Day-Daytrip took it to 10 Let me tell you ...</td>\n",
       "      <td>[Day-Day-Daytrip, took, it, to, 10, Let, me, t...</td>\n",
       "      <td>88</td>\n",
       "      <td>[fucked, fucking, goddamn, bitch, nigga, shit]</td>\n",
       "      <td>6.0</td>\n",
       "      <td>0.003260</td>\n",
       "    </tr>\n",
       "    <tr>\n",
       "      <th>2</th>\n",
       "      <td>2</td>\n",
       "      <td>Cordae</td>\n",
       "      <td>Bad Idea</td>\n",
       "      <td>2019.0</td>\n",
       "      <td>Ooh \\nOoh \\nYeah uh \\nBongo ByTheWay \\nI know ...</td>\n",
       "      <td>Ooh  Ooh  Yeah uh  Bongo ByTheWay  I know myse...</td>\n",
       "      <td>[Ooh , Ooh , Yeah uh , Bongo ByTheWay , I know...</td>\n",
       "      <td>Ooh Ooh Yeah uh Bongo ByTheWay I know myself a...</td>\n",
       "      <td>[Ooh, Ooh, Yeah, uh, Bongo, ByTheWay, I, know,...</td>\n",
       "      <td>73</td>\n",
       "      <td>[nigga, shit]</td>\n",
       "      <td>2.0</td>\n",
       "      <td>0.001238</td>\n",
       "    </tr>\n",
       "    <tr>\n",
       "      <th>3</th>\n",
       "      <td>3</td>\n",
       "      <td>Cordae</td>\n",
       "      <td>Have Mercy</td>\n",
       "      <td>2019.0</td>\n",
       "      <td>Kid \\nUgh \\nSweet Lord please have mercy \\nBab...</td>\n",
       "      <td>Kid  Ugh  Sweet Lord please have mercy  Baby J...</td>\n",
       "      <td>[Kid , Ugh , Sweet Lord please have mercy , Ba...</td>\n",
       "      <td>Kid Ugh Sweet Lord please have mercy Baby Jesu...</td>\n",
       "      <td>[Kid, Ugh, Sweet, Lord, please, have, mercy, B...</td>\n",
       "      <td>86</td>\n",
       "      <td>[bitch, nigga, shit, Fuck]</td>\n",
       "      <td>4.0</td>\n",
       "      <td>0.002625</td>\n",
       "    </tr>\n",
       "    <tr>\n",
       "      <th>4</th>\n",
       "      <td>4</td>\n",
       "      <td>Cordae</td>\n",
       "      <td>Old Niggas</td>\n",
       "      <td>2018.0</td>\n",
       "      <td>Damn Mizzy Mauri got beats \\nUh old niggas and...</td>\n",
       "      <td>Damn Mizzy Mauri got beats  Uh old niggas and ...</td>\n",
       "      <td>[Damn Mizzy Mauri got beats , Uh old niggas an...</td>\n",
       "      <td>Damn Mizzy Mauri got beats Uh old niggas and n...</td>\n",
       "      <td>[Damn, Mizzy, Mauri, got, beat, Uh, old, nigga...</td>\n",
       "      <td>64</td>\n",
       "      <td>[nigga, bullshit, fuckin, suck]</td>\n",
       "      <td>4.0</td>\n",
       "      <td>0.002336</td>\n",
       "    </tr>\n",
       "  </tbody>\n",
       "</table>\n",
       "</div>"
      ],
      "text/plain": [
       "   Unnamed: 0  rapper        song    year  \\\n",
       "0           0  Cordae         RNP  2019.0   \n",
       "1           1  Cordae     Kung Fu  2018.0   \n",
       "2           2  Cordae    Bad Idea  2019.0   \n",
       "3           3  Cordae  Have Mercy  2019.0   \n",
       "4           4  Cordae  Old Niggas  2018.0   \n",
       "\n",
       "                                              lyrics  \\\n",
       "0  One of y'all niggas gon' be fuckin' with me \\n...   \n",
       "1  Day-Day-Daytrip took it to 10 \\nLet me tell yo...   \n",
       "2  Ooh \\nOoh \\nYeah uh \\nBongo ByTheWay \\nI know ...   \n",
       "3  Kid \\nUgh \\nSweet Lord please have mercy \\nBab...   \n",
       "4  Damn Mizzy Mauri got beats \\nUh old niggas and...   \n",
       "\n",
       "                                     lyrics_splitted  \\\n",
       "0  One of y'all niggas gon' be fuckin' with me  I...   \n",
       "1  Day-Day-Daytrip took it to 10  Let me tell you...   \n",
       "2  Ooh  Ooh  Yeah uh  Bongo ByTheWay  I know myse...   \n",
       "3  Kid  Ugh  Sweet Lord please have mercy  Baby J...   \n",
       "4  Damn Mizzy Mauri got beats  Uh old niggas and ...   \n",
       "\n",
       "                               lyrics_splitted_lines  \\\n",
       "0  [One of y'all niggas gon' be fuckin' with me ,...   \n",
       "1  [Day-Day-Daytrip took it to 10 , Let me tell y...   \n",
       "2  [Ooh , Ooh , Yeah uh , Bongo ByTheWay , I know...   \n",
       "3  [Kid , Ugh , Sweet Lord please have mercy , Ba...   \n",
       "4  [Damn Mizzy Mauri got beats , Uh old niggas an...   \n",
       "\n",
       "                                    lyrics_tokenized  \\\n",
       "0  One of y'all niggas gon ' be fuckin ' with me ...   \n",
       "1  Day-Day-Daytrip took it to 10 Let me tell you ...   \n",
       "2  Ooh Ooh Yeah uh Bongo ByTheWay I know myself a...   \n",
       "3  Kid Ugh Sweet Lord please have mercy Baby Jesu...   \n",
       "4  Damn Mizzy Mauri got beats Uh old niggas and n...   \n",
       "\n",
       "                                   lyrics_lemmatized  formula_num_sent  \\\n",
       "0  [One, of, y'all, nigga, gon, ', be, fuckin, ',...                57   \n",
       "1  [Day-Day-Daytrip, took, it, to, 10, Let, me, t...                88   \n",
       "2  [Ooh, Ooh, Yeah, uh, Bongo, ByTheWay, I, know,...                73   \n",
       "3  [Kid, Ugh, Sweet, Lord, please, have, mercy, B...                86   \n",
       "4  [Damn, Mizzy, Mauri, got, beat, Uh, old, nigga...                64   \n",
       "\n",
       "                                               slurs  num_slurs  formula_song  \n",
       "0  [motherfuckin, fucking, bitch, nigga, Fuck, fu...        6.0      0.004926  \n",
       "1     [fucked, fucking, goddamn, bitch, nigga, shit]        6.0      0.003260  \n",
       "2                                      [nigga, shit]        2.0      0.001238  \n",
       "3                         [bitch, nigga, shit, Fuck]        4.0      0.002625  \n",
       "4                    [nigga, bullshit, fuckin, suck]        4.0      0.002336  "
      ]
     },
     "execution_count": 199,
     "metadata": {},
     "output_type": "execute_result"
    }
   ],
   "source": [
    "df.head()"
   ]
  },
  {
   "cell_type": "code",
   "execution_count": 201,
   "id": "bb72a9f0",
   "metadata": {},
   "outputs": [
    {
     "data": {
      "text/plain": [
       "\"One of y'all niggas gon' be fuckin' with me \\nI got two bad bitches gon' be rubbin' my feet \\nI got three young niggas down to bust out the heat \\nAnd all y'all ain't got nothin' on me \\nOoh not one of y'all niggas gon' be fuckin' with me \\nI got two bad bitches gon' be rubbin' my feet \\nI got three young niggas down to bust out the heat \\nAnd all y'all ain't got nothin' on me \\nUh okay put your fucking hands up this the fucking anthem \\nSmiling 'cause I'm young rich black and I'm handsome \\nNot to mention wealthy ass on her healthy \\nYoung millionaire what the fuck can you tell me? Smell me? \\nNigga that's Chanel cologne \\nI'm in Europe with the tourists with no cellular phone \\nLike ooh sound like rich nigga problems \\nI hit a bad bitch with a fistful of condoms \\nAnd the randomness of risky ménages \\nLike get the head right she can get what she wanted \\nThe spits then flaunt it my drip like a faucet \\nShe told me she was prego I ain't even take the motherfuckin' dick out my pocket yeah \\n \\nThe opposite \\nShe want me to fly her so I copped a jet \\nMust be thinkin' I'm a one way ticket on a runway \\nDrippin' in my feng shui sippin' on a sundae \\nOne of y'all niggas gon' be fuckin' with me \\nI got two bad bitches gon' be rubbin' my feet \\nI got three young niggas down to bust out the heat \\nAnd all y'all ain't got nothin' on me \\nOoh not one of y'all niggas gon' be fuckin' with me \\nI got two bad bitches gon' be rubbin' my feet \\nI got three young niggas down to bust out the heat \\nAnd all y'all ain't got nothin' on me \\nI bought a Moncler coat for the times we were broke \\nI'ma wear it in the summer on LeBron James boat \\nFront row? Duh bro we don't sit on nosebleeds \\nAin't your pockets obese? They won't fit in those seats \\nAyy we like a cold team nigga Shaq and Kobe \\nLike back in '03 I was only like 6 \\nShit I was like 16 but I can give a sixteen \\nI can make a bitch scream that's a bit extreme \\nI got a thick bald bitch I call her Ms. Clean \\nMy drip frosty like Halls and Listerine \\nWe all all-stars you hardly sixth string \\nYeah I had to ball hard to harvest these dreams \\nSwear to God me too no Harvey Weinstein \\nThe coupe was lime green my wrist was blinding \\nWe party in South Beach Ferraris and blue cheese \\nFuck does that even mean? Nigga just let the hook sing \\nOne of y'all niggas gon' be fuckin' with me \\nI got two bad bitches gon' be rubbin' my feet \\nI got three young niggas down to bust out the heat \\nAnd all y'all ain't got nothin' on me \\nOoh not one of y'all niggas gon' be fuckin' with me \\nI got two bad bitches gon' be rubbin' my feet \\nI got three young niggas down to bust out the heat \\nAnd all y'all ain't got nothin' on me\""
      ]
     },
     "execution_count": 201,
     "metadata": {},
     "output_type": "execute_result"
    }
   ],
   "source": [
    "df[\"lyrics\"][0]"
   ]
  },
  {
   "cell_type": "code",
   "execution_count": null,
   "id": "1c00c12b",
   "metadata": {},
   "outputs": [],
   "source": []
  }
 ],
 "metadata": {
  "kernelspec": {
   "display_name": "Python 3 (ipykernel)",
   "language": "python",
   "name": "python3"
  },
  "language_info": {
   "codemirror_mode": {
    "name": "ipython",
    "version": 3
   },
   "file_extension": ".py",
   "mimetype": "text/x-python",
   "name": "python",
   "nbconvert_exporter": "python",
   "pygments_lexer": "ipython3",
   "version": "3.9.12"
  }
 },
 "nbformat": 4,
 "nbformat_minor": 5
}
